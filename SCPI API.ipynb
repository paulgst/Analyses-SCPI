{
 "cells": [
  {
   "cell_type": "markdown",
   "id": "90c7d22a",
   "metadata": {},
   "source": [
    "# 5. Pour le fun, créer une API"
   ]
  },
  {
   "cell_type": "code",
   "execution_count": 36,
   "id": "fced56cc",
   "metadata": {},
   "outputs": [
    {
     "name": "stdout",
     "output_type": "stream",
     "text": [
      "[[-5.24404424e+00 -1.93649167e+00  4.77230042e+08  3.13120028e+00\n",
      "  -4.27516810e-01 -4.83523404e-01 -7.27538733e-01  5.08241955e-01\n",
      "   5.15638652e-01 -1.61724593e-02 -1.07575162e-01  5.46751439e-01\n",
      "  -1.33630621e-01 -9.48683298e-01  1.93649167e+00 -4.04061018e-01\n",
      "  -2.74721128e-01 -1.90692518e-01 -2.35702260e-01]]\n",
      "[5.22232833]\n"
     ]
    },
    {
     "name": "stderr",
     "output_type": "stream",
     "text": [
      "C:\\Users\\paulj\\anaconda3\\lib\\site-packages\\sklearn\\base.py:450: UserWarning: X does not have valid feature names, but StandardScaler was fitted with feature names\n",
      "  warnings.warn(\n"
     ]
    }
   ],
   "source": [
    "#tester le fichier pickle\n",
    "import pickle\n",
    "# Chargez votre modèle préenregistré avec Pickle\n",
    "with open('modele.pickle', 'rb') as model_file:\n",
    "    model = pickle.load(model_file)\n",
    "    \n",
    "with open('sc_fit.pickle', 'rb') as model_file:\n",
    "    sc_fit = pickle.load(model_file)\n",
    "\n",
    "nb_immeubles = 50000000000\n",
    "pct_charge = 100\n",
    "\n",
    "pct_distrib_2018 = 5\n",
    "pct_distrib_2019 = 4.5\n",
    "pct_distrib_2020 = 4\n",
    "pct_distrib_2021 = 5\n",
    "\n",
    "capital = 0\n",
    "\n",
    " ##################### ##################### SCPI_plus_value = 0\n",
    "SCPI_rendement = 1\n",
    "\n",
    "\n",
    "type_SCPI = 0\n",
    "\n",
    "categorie_act_log = 0\n",
    "categorie_bureaux = 0\n",
    "categorie_commerce = 1\n",
    "categorie_diversifiee = 0\n",
    "categorie_residentiel = 0\n",
    "categorie_sante_education = 0\n",
    "categorie_tourisme_loisirs = 0    \n",
    "\n",
    "\n",
    "variation_prix_2019 = pct_distrib_2019-pct_distrib_2018\n",
    "variation_prix_2020 = pct_distrib_2020-pct_distrib_2019\n",
    "variation_prix_2021 = pct_distrib_2021-pct_distrib_2020\n",
    "variation_prix_2018 = (variation_prix_2019+variation_prix_2020+variation_prix_2021)/3\n",
    "\n",
    "\n",
    "#X = [[capital, nb_immeubles, pct_charge, variation_prix_2018, variation_prix_2019,\n",
    "#                              variation_prix_2020, variation_prix_2021, pct_distrib_2018,\n",
    "#                              pct_distrib_2019, pct_distrib_2020, pct_distrib_2021, SCPI_plus_value,\n",
    "#                             SCPI_rendement,categorie_act_log,categorie_bureaux,categorie_commerce,\n",
    "#                             categorie_diversifiee,categorie_residentiel,categorie_sante_education,categorie_tourisme_loisirs]]\n",
    "\n",
    "X = [[type_SCPI, capital, nb_immeubles, pct_charge, variation_prix_2018, variation_prix_2019,\n",
    "                              variation_prix_2020, variation_prix_2021, pct_distrib_2018,\n",
    "                              pct_distrib_2019, pct_distrib_2020, pct_distrib_2021, categorie_act_log,categorie_bureaux,categorie_commerce,\n",
    "                             categorie_diversifiee,categorie_residentiel,categorie_sante_education,categorie_tourisme_loisirs]]\n",
    "X_sc = sc_fit.transform(X)\n",
    "prediction = model.predict(X_sc)\n",
    "print(X_sc)\n",
    "print(prediction)\n",
    "#en testant, le nombre d'immeuble, le pct de charge et le type de SCPI ne change pas grand chose, on va alors simplifier l'API par la suite"
   ]
  },
  {
   "cell_type": "code",
   "execution_count": 37,
   "id": "190e0a91",
   "metadata": {},
   "outputs": [
    {
     "name": "stdout",
     "output_type": "stream",
     "text": [
      " * Serving Flask app \"__main__\" (lazy loading)\n",
      " * Environment: production\n",
      "\u001b[31m   WARNING: This is a development server. Do not use it in a production deployment.\u001b[0m\n",
      "\u001b[2m   Use a production WSGI server instead.\u001b[0m\n",
      " * Debug mode: on\n"
     ]
    },
    {
     "name": "stderr",
     "output_type": "stream",
     "text": [
      " * Restarting with watchdog (windowsapi)\n"
     ]
    },
    {
     "ename": "SystemExit",
     "evalue": "1",
     "output_type": "error",
     "traceback": [
      "An exception has occurred, use %tb to see the full traceback.\n",
      "\u001b[1;31mSystemExit\u001b[0m\u001b[1;31m:\u001b[0m 1\n"
     ]
    },
    {
     "name": "stderr",
     "output_type": "stream",
     "text": [
      "C:\\Users\\paulj\\anaconda3\\lib\\site-packages\\IPython\\core\\interactiveshell.py:3377: UserWarning: To exit: use 'exit', 'quit', or Ctrl-D.\n",
      "  warn(\"To exit: use 'exit', 'quit', or Ctrl-D.\", stacklevel=1)\n"
     ]
    }
   ],
   "source": [
    "from flask import Flask, render_template, request, jsonify\n",
    "import pickle\n",
    "\n",
    "app = Flask(__name__)\n",
    "\n",
    "# Chargez votre modèle préenregistré avec Pickle\n",
    "with open('modele.pickle', 'rb') as model_file:\n",
    "    model = pickle.load(model_file)\n",
    "    \n",
    "with open('sc_fit.pickle', 'rb') as model_file:\n",
    "    sc_fit = pickle.load(model_file)\n",
    "\n",
    "@app.route('/')\n",
    "def index():\n",
    "    return render_template('index.html')\n",
    "\n",
    "@app.route('/predict', methods=['POST'])\n",
    "def predict():\n",
    "    # Récupérez les variables d'entrée depuis le formulaire\n",
    "\n",
    "    nb_immeubles = 130\n",
    "    pct_charge = 30\n",
    "\n",
    "    #pct_distrib_2018 = float(request.form['pct_distrib_2018'])\n",
    "    pct_distrib_2018 = float(request.form['pct_distrib_2018'])\n",
    "    pct_distrib_2019 = float(request.form['pct_distrib_2019'])\n",
    "    pct_distrib_2020 = float(request.form['pct_distrib_2020'])\n",
    "    pct_distrib_2021 = float(request.form['pct_distrib_2021'])\n",
    "    \n",
    "\n",
    "\n",
    "    variation_prix_2019 = pct_distrib_2019-pct_distrib_2018\n",
    "    variation_prix_2020 = pct_distrib_2020-pct_distrib_2019\n",
    "    variation_prix_2021 = pct_distrib_2021-pct_distrib_2020\n",
    "    variation_prix_2018 = (variation_prix_2019+variation_prix_2020+variation_prix_2021)/3\n",
    "\n",
    "\n",
    "    capital_var = request.form['capital']    \n",
    "\n",
    "    categorie_var = request.form['categorie']\n",
    "\n",
    "    capital = 0\n",
    "    \n",
    "    type_SCPI = 0\n",
    "    \n",
    "    categorie_act_log = 0\n",
    "    categorie_bureaux = 0\n",
    "    categorie_commerce = 0\n",
    "    categorie_diversifiee = 0\n",
    "    categorie_residentiel = 0\n",
    "    categorie_sante_education = 0\n",
    "    categorie_tourisme_loisirs = 0\n",
    "\n",
    "    if capital_var == 'Fixe':\n",
    "        capital = 1\n",
    "  \n",
    "        \n",
    "    if categorie_var == 'Activités / Logistique':\n",
    "        categorie_act_log = 1\n",
    "    elif categorie_var == 'Bureaux':\n",
    "        categorie_bureaux = 1\n",
    "    elif categorie_var == 'Commerce':\n",
    "        categorie_commerce = 1\n",
    "    elif categorie_var == 'Diversifiée':\n",
    "        categorie_diversifiee = 1\n",
    "    elif categorie_var == 'Résidentiel':\n",
    "        categorie_residentiel = 1\n",
    "    elif categorie_var == 'Santé et éducation':\n",
    "        categorie_sante_education = 1\n",
    "    elif categorie_var == 'Tourisme et loisirs':\n",
    "        categorie_tourisme_loisirs = 1\n",
    "    else:\n",
    "        categorie_diversifiee = 1\n",
    "    \n",
    "\n",
    "    # Effectuez la prédiction avec votre modèle\n",
    "    \n",
    "    \n",
    "    X = [[type_SCPI, capital, nb_immeubles, pct_charge, variation_prix_2018, variation_prix_2019,\n",
    "                              variation_prix_2020, variation_prix_2021, pct_distrib_2018,\n",
    "                              pct_distrib_2019, pct_distrib_2020, pct_distrib_2021, categorie_act_log,categorie_bureaux,categorie_commerce,\n",
    "                             categorie_diversifiee,categorie_residentiel,categorie_sante_education,categorie_tourisme_loisirs]]\n",
    "    \n",
    "    X_sc = sc_fit.transform(X)\n",
    "    prediction = model.predict(X_sc)\n",
    "\n",
    "    # Retournez la prédiction en tant que réponse JSON\n",
    "    return render_template('index.html', prediction=round(prediction[0], 2))\n",
    "\n",
    "if __name__ == '__main__':\n",
    "    app.run(debug=True)"
   ]
  },
  {
   "cell_type": "code",
   "execution_count": 1,
   "id": "60e4601b",
   "metadata": {},
   "outputs": [
    {
     "name": "stdout",
     "output_type": "stream",
     "text": [
      "^C\n"
     ]
    }
   ],
   "source": [
    "#exécuter dans un jupyter notebook :\n",
    "!python app.py\n",
    "\n",
    "#http://localhost:5000/"
   ]
  }
 ],
 "metadata": {
  "kernelspec": {
   "display_name": "Python 3 (ipykernel)",
   "language": "python",
   "name": "python3"
  },
  "language_info": {
   "codemirror_mode": {
    "name": "ipython",
    "version": 3
   },
   "file_extension": ".py",
   "mimetype": "text/x-python",
   "name": "python",
   "nbconvert_exporter": "python",
   "pygments_lexer": "ipython3",
   "version": "3.9.12"
  }
 },
 "nbformat": 4,
 "nbformat_minor": 5
}
